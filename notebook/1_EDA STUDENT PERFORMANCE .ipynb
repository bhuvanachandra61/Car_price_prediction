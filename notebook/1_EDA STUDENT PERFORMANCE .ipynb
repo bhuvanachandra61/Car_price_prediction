{
 "cells": [
  {
   "cell_type": "markdown",
   "id": "1e233234",
   "metadata": {},
   "source": [
    "# <p style=\"padding:10px;background-color:#87CEEB ;margin:10;color:#000000;font-family:newtimeroman;font-size:100%;text-align:center;border-radius: 10px 10px ;overflow:hidden;font-weight:50\">EDA for Car Price Predictor - Bhuvan</p>"
   ]
  },
  {
   "cell_type": "markdown",
   "id": "62e05101",
   "metadata": {},
   "source": [
    "#### Life cycle of Machine learning Project\n",
    "\n",
    "- Understanding the Problem Statement\n",
    "- Data Collection\n",
    "- Data Checks to perform\n",
    "- Exploratory data analysis\n",
    "- Data Pre-Processing\n",
    "- Model Training\n",
    "- Choose best model"
   ]
  },
  {
   "cell_type": "markdown",
   "id": "dfcea981",
   "metadata": {},
   "source": [
    "### 1) Problem statement\n",
    "- This project understands car_name, brand, model, vehicle_age, km_driven, seller_type, fuel_type,transmission_type, mileage, engine, max_power, seats, selling_price.\n",
    "\n",
    "\n",
    "### 2) Data Collection\n",
    "- Dataset Source - https://www.kaggle.com/datasets/manishkr1754/cardekho-used-car-data\n",
    "- The data consists of 13 column and 15411 rows."
   ]
  },
  {
   "cell_type": "markdown",
   "id": "15b1355f",
   "metadata": {},
   "source": [
    "### 2.1 Import Data and Required Packages\n",
    "####  Importing Pandas, Numpy, Matplotlib, Seaborn and Warings Library."
   ]
  },
  {
   "cell_type": "code",
   "execution_count": 11,
   "id": "7eaae1d7",
   "metadata": {},
   "outputs": [],
   "source": [
    "import numpy as np\n",
    "import pandas as pd\n",
    "import seaborn as sns\n",
    "import matplotlib.pyplot as plt\n",
    "%matplotlib inline\n",
    "import warnings\n",
    "warnings.filterwarnings('ignore')"
   ]
  },
  {
   "cell_type": "markdown",
   "id": "3caeb0bb",
   "metadata": {},
   "source": [
    "#### Import the CSV Data as Pandas DataFrame"
   ]
  },
  {
   "cell_type": "code",
   "execution_count": 12,
   "id": "57907087",
   "metadata": {},
   "outputs": [],
   "source": [
    "df = pd.read_csv('C:/DS-project/Car_price_prediction/notebook/data/cardekho_dataset.csv')"
   ]
  },
  {
   "cell_type": "markdown",
   "id": "92c8fd8a",
   "metadata": {},
   "source": [
    "#### Show Top 5 Records"
   ]
  },
  {
   "cell_type": "code",
   "execution_count": 13,
   "id": "7d1a2a0b",
   "metadata": {},
   "outputs": [
    {
     "data": {
      "text/html": [
       "<div>\n",
       "<style scoped>\n",
       "    .dataframe tbody tr th:only-of-type {\n",
       "        vertical-align: middle;\n",
       "    }\n",
       "\n",
       "    .dataframe tbody tr th {\n",
       "        vertical-align: top;\n",
       "    }\n",
       "\n",
       "    .dataframe thead th {\n",
       "        text-align: right;\n",
       "    }\n",
       "</style>\n",
       "<table border=\"1\" class=\"dataframe\">\n",
       "  <thead>\n",
       "    <tr style=\"text-align: right;\">\n",
       "      <th></th>\n",
       "      <th>car_name</th>\n",
       "      <th>brand</th>\n",
       "      <th>model</th>\n",
       "      <th>vehicle_age</th>\n",
       "      <th>km_driven</th>\n",
       "      <th>seller_type</th>\n",
       "      <th>fuel_type</th>\n",
       "      <th>transmission_type</th>\n",
       "      <th>mileage</th>\n",
       "      <th>engine</th>\n",
       "      <th>max_power</th>\n",
       "      <th>seats</th>\n",
       "      <th>selling_price</th>\n",
       "    </tr>\n",
       "  </thead>\n",
       "  <tbody>\n",
       "    <tr>\n",
       "      <th>0</th>\n",
       "      <td>Maruti Alto</td>\n",
       "      <td>Maruti</td>\n",
       "      <td>Alto</td>\n",
       "      <td>9</td>\n",
       "      <td>120000</td>\n",
       "      <td>Individual</td>\n",
       "      <td>Petrol</td>\n",
       "      <td>Manual</td>\n",
       "      <td>19.70</td>\n",
       "      <td>796</td>\n",
       "      <td>46.30</td>\n",
       "      <td>5</td>\n",
       "      <td>120000</td>\n",
       "    </tr>\n",
       "    <tr>\n",
       "      <th>1</th>\n",
       "      <td>Hyundai Grand</td>\n",
       "      <td>Hyundai</td>\n",
       "      <td>Grand</td>\n",
       "      <td>5</td>\n",
       "      <td>20000</td>\n",
       "      <td>Individual</td>\n",
       "      <td>Petrol</td>\n",
       "      <td>Manual</td>\n",
       "      <td>18.90</td>\n",
       "      <td>1197</td>\n",
       "      <td>82.00</td>\n",
       "      <td>5</td>\n",
       "      <td>550000</td>\n",
       "    </tr>\n",
       "    <tr>\n",
       "      <th>2</th>\n",
       "      <td>Hyundai i20</td>\n",
       "      <td>Hyundai</td>\n",
       "      <td>i20</td>\n",
       "      <td>11</td>\n",
       "      <td>60000</td>\n",
       "      <td>Individual</td>\n",
       "      <td>Petrol</td>\n",
       "      <td>Manual</td>\n",
       "      <td>17.00</td>\n",
       "      <td>1197</td>\n",
       "      <td>80.00</td>\n",
       "      <td>5</td>\n",
       "      <td>215000</td>\n",
       "    </tr>\n",
       "    <tr>\n",
       "      <th>3</th>\n",
       "      <td>Maruti Alto</td>\n",
       "      <td>Maruti</td>\n",
       "      <td>Alto</td>\n",
       "      <td>9</td>\n",
       "      <td>37000</td>\n",
       "      <td>Individual</td>\n",
       "      <td>Petrol</td>\n",
       "      <td>Manual</td>\n",
       "      <td>20.92</td>\n",
       "      <td>998</td>\n",
       "      <td>67.10</td>\n",
       "      <td>5</td>\n",
       "      <td>226000</td>\n",
       "    </tr>\n",
       "    <tr>\n",
       "      <th>4</th>\n",
       "      <td>Ford Ecosport</td>\n",
       "      <td>Ford</td>\n",
       "      <td>Ecosport</td>\n",
       "      <td>6</td>\n",
       "      <td>30000</td>\n",
       "      <td>Dealer</td>\n",
       "      <td>Diesel</td>\n",
       "      <td>Manual</td>\n",
       "      <td>22.77</td>\n",
       "      <td>1498</td>\n",
       "      <td>98.59</td>\n",
       "      <td>5</td>\n",
       "      <td>570000</td>\n",
       "    </tr>\n",
       "  </tbody>\n",
       "</table>\n",
       "</div>"
      ],
      "text/plain": [
       "        car_name    brand     model  vehicle_age  km_driven seller_type  \\\n",
       "0    Maruti Alto   Maruti      Alto            9     120000  Individual   \n",
       "1  Hyundai Grand  Hyundai     Grand            5      20000  Individual   \n",
       "2    Hyundai i20  Hyundai       i20           11      60000  Individual   \n",
       "3    Maruti Alto   Maruti      Alto            9      37000  Individual   \n",
       "4  Ford Ecosport     Ford  Ecosport            6      30000      Dealer   \n",
       "\n",
       "  fuel_type transmission_type  mileage  engine  max_power  seats  \\\n",
       "0    Petrol            Manual    19.70     796      46.30      5   \n",
       "1    Petrol            Manual    18.90    1197      82.00      5   \n",
       "2    Petrol            Manual    17.00    1197      80.00      5   \n",
       "3    Petrol            Manual    20.92     998      67.10      5   \n",
       "4    Diesel            Manual    22.77    1498      98.59      5   \n",
       "\n",
       "   selling_price  \n",
       "0         120000  \n",
       "1         550000  \n",
       "2         215000  \n",
       "3         226000  \n",
       "4         570000  "
      ]
     },
     "execution_count": 13,
     "metadata": {},
     "output_type": "execute_result"
    }
   ],
   "source": [
    "df.head()"
   ]
  },
  {
   "cell_type": "markdown",
   "id": "56a49220",
   "metadata": {},
   "source": [
    "#### Shape of the dataset"
   ]
  },
  {
   "cell_type": "code",
   "execution_count": 15,
   "id": "417e5820",
   "metadata": {},
   "outputs": [
    {
     "data": {
      "text/plain": [
       "(15411, 13)"
      ]
     },
     "execution_count": 15,
     "metadata": {},
     "output_type": "execute_result"
    }
   ],
   "source": [
    "df.shape"
   ]
  },
  {
   "cell_type": "markdown",
   "id": "041aa39d",
   "metadata": {},
   "source": [
    "### 2.2 Dataset information"
   ]
  },
  {
   "cell_type": "markdown",
   "id": "7e3cff9d",
   "metadata": {},
   "source": [
    "- car_name: Car's Full name, which includes brand and specific model name.\n",
    "- brand: Brand Name of the particular car.\n",
    "- model: Exact model name of the car of a particular brand.\n",
    "- seller_type: Which Type of seller is selling the used car\n",
    "- fuel_type: Fuel used in the used car, which was put up on sale.\n",
    "- transmission_type: Transmission used in the used car, which was put on sale.\n",
    "- vehicle_age: The count of years since car was bought.\n",
    "- mileage: It is the number of kilometer the car runs per litre.\n",
    "- engine: It is the engine capacity in cc(cubic centimeters)\n",
    "- max_power: Max power it produces in BHP.\n",
    "- seats: Total number of seats in car.\n",
    "- selling_price: The sale price which was put up on website."
   ]
  },
  {
   "cell_type": "markdown",
   "id": "27c4b61b",
   "metadata": {},
   "source": [
    "### 3. Data Checks to perform\n",
    "\n",
    "- Check Missing values\n",
    "- Check Duplicates\n",
    "- Check data type\n",
    "- Check the number of unique values of each column\n",
    "- Check statistics of data set\n",
    "- Check various categories present in the different categorical column"
   ]
  },
  {
   "cell_type": "markdown",
   "id": "c31d4123",
   "metadata": {},
   "source": [
    "### 3.1 Check Missing values"
   ]
  },
  {
   "cell_type": "code",
   "execution_count": 16,
   "id": "707d6a7b",
   "metadata": {},
   "outputs": [
    {
     "data": {
      "text/plain": [
       "car_name             0\n",
       "brand                0\n",
       "model                0\n",
       "vehicle_age          0\n",
       "km_driven            0\n",
       "seller_type          0\n",
       "fuel_type            0\n",
       "transmission_type    0\n",
       "mileage              0\n",
       "engine               0\n",
       "max_power            0\n",
       "seats                0\n",
       "selling_price        0\n",
       "dtype: int64"
      ]
     },
     "execution_count": 16,
     "metadata": {},
     "output_type": "execute_result"
    }
   ],
   "source": [
    "df.isna().sum()"
   ]
  },
  {
   "cell_type": "markdown",
   "id": "ce8f7b83",
   "metadata": {},
   "source": [
    "#### There are no missing values in the data set"
   ]
  },
  {
   "cell_type": "markdown",
   "id": "5840ff7f",
   "metadata": {},
   "source": [
    "### 3.2 Check Duplicates"
   ]
  },
  {
   "cell_type": "code",
   "execution_count": 17,
   "id": "ae16686e",
   "metadata": {},
   "outputs": [
    {
     "data": {
      "text/plain": [
       "167"
      ]
     },
     "execution_count": 17,
     "metadata": {},
     "output_type": "execute_result"
    }
   ],
   "source": [
    "df.duplicated().sum()"
   ]
  },
  {
   "cell_type": "markdown",
   "id": "857f77d1",
   "metadata": {},
   "source": [
    "### Removing the duplicate values"
   ]
  },
  {
   "cell_type": "code",
   "execution_count": 29,
   "id": "295601fe",
   "metadata": {},
   "outputs": [],
   "source": [
    "df_cleaned = df.drop_duplicates()"
   ]
  },
  {
   "cell_type": "code",
   "execution_count": 30,
   "id": "4dfbcd1e",
   "metadata": {},
   "outputs": [
    {
     "data": {
      "text/plain": [
       "(15244, 13)"
      ]
     },
     "execution_count": 30,
     "metadata": {},
     "output_type": "execute_result"
    }
   ],
   "source": [
    "df_cleaned.shape"
   ]
  },
  {
   "cell_type": "markdown",
   "id": "e5d7ae8e",
   "metadata": {},
   "source": [
    "#### There are 167 duplicates  values in the data set and they are removed "
   ]
  },
  {
   "cell_type": "markdown",
   "id": "30dfacc8",
   "metadata": {},
   "source": [
    "### 3.3 Check data types"
   ]
  },
  {
   "cell_type": "code",
   "execution_count": 31,
   "id": "25f95bc8",
   "metadata": {},
   "outputs": [
    {
     "name": "stdout",
     "output_type": "stream",
     "text": [
      "<class 'pandas.core.frame.DataFrame'>\n",
      "Index: 15244 entries, 0 to 15410\n",
      "Data columns (total 13 columns):\n",
      " #   Column             Non-Null Count  Dtype  \n",
      "---  ------             --------------  -----  \n",
      " 0   car_name           15244 non-null  object \n",
      " 1   brand              15244 non-null  object \n",
      " 2   model              15244 non-null  object \n",
      " 3   vehicle_age        15244 non-null  int64  \n",
      " 4   km_driven          15244 non-null  int64  \n",
      " 5   seller_type        15244 non-null  object \n",
      " 6   fuel_type          15244 non-null  object \n",
      " 7   transmission_type  15244 non-null  object \n",
      " 8   mileage            15244 non-null  float64\n",
      " 9   engine             15244 non-null  int64  \n",
      " 10  max_power          15244 non-null  float64\n",
      " 11  seats              15244 non-null  int64  \n",
      " 12  selling_price      15244 non-null  int64  \n",
      "dtypes: float64(2), int64(5), object(6)\n",
      "memory usage: 1.6+ MB\n"
     ]
    }
   ],
   "source": [
    "# Check Null and Dtypes\n",
    "df_cleaned.info()"
   ]
  },
  {
   "cell_type": "markdown",
   "id": "0dbbf5b4",
   "metadata": {},
   "source": [
    "### 3.4 Checking the number of unique values of each column"
   ]
  },
  {
   "cell_type": "code",
   "execution_count": 36,
   "id": "2c2b61b6",
   "metadata": {},
   "outputs": [
    {
     "data": {
      "text/plain": [
       "car_name              121\n",
       "brand                  32\n",
       "model                 120\n",
       "vehicle_age            24\n",
       "km_driven            3688\n",
       "seller_type             3\n",
       "fuel_type               5\n",
       "transmission_type       2\n",
       "mileage               411\n",
       "engine                110\n",
       "max_power             342\n",
       "seats                   8\n",
       "selling_price        1086\n",
       "dtype: int64"
      ]
     },
     "execution_count": 36,
     "metadata": {},
     "output_type": "execute_result"
    }
   ],
   "source": [
    "df_cleaned.nunique()"
   ]
  },
  {
   "cell_type": "markdown",
   "id": "a4f6b022",
   "metadata": {},
   "source": [
    "### 3.5 Check statistics of data set"
   ]
  },
  {
   "cell_type": "code",
   "execution_count": 37,
   "id": "76c608dc",
   "metadata": {},
   "outputs": [
    {
     "data": {
      "text/html": [
       "<div>\n",
       "<style scoped>\n",
       "    .dataframe tbody tr th:only-of-type {\n",
       "        vertical-align: middle;\n",
       "    }\n",
       "\n",
       "    .dataframe tbody tr th {\n",
       "        vertical-align: top;\n",
       "    }\n",
       "\n",
       "    .dataframe thead th {\n",
       "        text-align: right;\n",
       "    }\n",
       "</style>\n",
       "<table border=\"1\" class=\"dataframe\">\n",
       "  <thead>\n",
       "    <tr style=\"text-align: right;\">\n",
       "      <th></th>\n",
       "      <th>vehicle_age</th>\n",
       "      <th>km_driven</th>\n",
       "      <th>mileage</th>\n",
       "      <th>engine</th>\n",
       "      <th>max_power</th>\n",
       "      <th>seats</th>\n",
       "      <th>selling_price</th>\n",
       "    </tr>\n",
       "  </thead>\n",
       "  <tbody>\n",
       "    <tr>\n",
       "      <th>count</th>\n",
       "      <td>15244.000000</td>\n",
       "      <td>1.524400e+04</td>\n",
       "      <td>15244.000000</td>\n",
       "      <td>15244.000000</td>\n",
       "      <td>15244.000000</td>\n",
       "      <td>15244.000000</td>\n",
       "      <td>1.524400e+04</td>\n",
       "    </tr>\n",
       "    <tr>\n",
       "      <th>mean</th>\n",
       "      <td>6.041131</td>\n",
       "      <td>5.563958e+04</td>\n",
       "      <td>19.697333</td>\n",
       "      <td>1486.171543</td>\n",
       "      <td>100.607652</td>\n",
       "      <td>5.326161</td>\n",
       "      <td>7.747014e+05</td>\n",
       "    </tr>\n",
       "    <tr>\n",
       "      <th>std</th>\n",
       "      <td>3.016228</td>\n",
       "      <td>5.176630e+04</td>\n",
       "      <td>4.169307</td>\n",
       "      <td>520.419390</td>\n",
       "      <td>42.915687</td>\n",
       "      <td>0.808760</td>\n",
       "      <td>8.946761e+05</td>\n",
       "    </tr>\n",
       "    <tr>\n",
       "      <th>min</th>\n",
       "      <td>0.000000</td>\n",
       "      <td>1.000000e+02</td>\n",
       "      <td>4.000000</td>\n",
       "      <td>793.000000</td>\n",
       "      <td>38.400000</td>\n",
       "      <td>0.000000</td>\n",
       "      <td>4.000000e+04</td>\n",
       "    </tr>\n",
       "    <tr>\n",
       "      <th>25%</th>\n",
       "      <td>4.000000</td>\n",
       "      <td>3.000000e+04</td>\n",
       "      <td>17.000000</td>\n",
       "      <td>1197.000000</td>\n",
       "      <td>74.000000</td>\n",
       "      <td>5.000000</td>\n",
       "      <td>3.850000e+05</td>\n",
       "    </tr>\n",
       "    <tr>\n",
       "      <th>50%</th>\n",
       "      <td>6.000000</td>\n",
       "      <td>5.000000e+04</td>\n",
       "      <td>19.670000</td>\n",
       "      <td>1248.000000</td>\n",
       "      <td>88.500000</td>\n",
       "      <td>5.000000</td>\n",
       "      <td>5.590000e+05</td>\n",
       "    </tr>\n",
       "    <tr>\n",
       "      <th>75%</th>\n",
       "      <td>8.000000</td>\n",
       "      <td>7.000000e+04</td>\n",
       "      <td>22.700000</td>\n",
       "      <td>1582.000000</td>\n",
       "      <td>117.300000</td>\n",
       "      <td>5.000000</td>\n",
       "      <td>8.250000e+05</td>\n",
       "    </tr>\n",
       "    <tr>\n",
       "      <th>max</th>\n",
       "      <td>29.000000</td>\n",
       "      <td>3.800000e+06</td>\n",
       "      <td>33.540000</td>\n",
       "      <td>6592.000000</td>\n",
       "      <td>626.000000</td>\n",
       "      <td>9.000000</td>\n",
       "      <td>3.950000e+07</td>\n",
       "    </tr>\n",
       "  </tbody>\n",
       "</table>\n",
       "</div>"
      ],
      "text/plain": [
       "        vehicle_age     km_driven       mileage        engine     max_power  \\\n",
       "count  15244.000000  1.524400e+04  15244.000000  15244.000000  15244.000000   \n",
       "mean       6.041131  5.563958e+04     19.697333   1486.171543    100.607652   \n",
       "std        3.016228  5.176630e+04      4.169307    520.419390     42.915687   \n",
       "min        0.000000  1.000000e+02      4.000000    793.000000     38.400000   \n",
       "25%        4.000000  3.000000e+04     17.000000   1197.000000     74.000000   \n",
       "50%        6.000000  5.000000e+04     19.670000   1248.000000     88.500000   \n",
       "75%        8.000000  7.000000e+04     22.700000   1582.000000    117.300000   \n",
       "max       29.000000  3.800000e+06     33.540000   6592.000000    626.000000   \n",
       "\n",
       "              seats  selling_price  \n",
       "count  15244.000000   1.524400e+04  \n",
       "mean       5.326161   7.747014e+05  \n",
       "std        0.808760   8.946761e+05  \n",
       "min        0.000000   4.000000e+04  \n",
       "25%        5.000000   3.850000e+05  \n",
       "50%        5.000000   5.590000e+05  \n",
       "75%        5.000000   8.250000e+05  \n",
       "max        9.000000   3.950000e+07  "
      ]
     },
     "execution_count": 37,
     "metadata": {},
     "output_type": "execute_result"
    }
   ],
   "source": [
    "df_cleaned.describe()"
   ]
  },
  {
   "cell_type": "markdown",
   "id": "9dc41207",
   "metadata": {},
   "source": [
    "#### Insight\n",
    "- From above description of numerical data, \n",
    "- Vechile mim age is 0 and max is 29 \n",
    "- Vechile mileage min is 4 and max is 33.54"
   ]
  },
  {
   "cell_type": "markdown",
   "id": "ac52d9cb",
   "metadata": {},
   "source": [
    "### 3.7 Exploring Data"
   ]
  },
  {
   "cell_type": "code",
   "execution_count": 38,
   "id": "1afd3c09",
   "metadata": {},
   "outputs": [
    {
     "data": {
      "text/html": [
       "<div>\n",
       "<style scoped>\n",
       "    .dataframe tbody tr th:only-of-type {\n",
       "        vertical-align: middle;\n",
       "    }\n",
       "\n",
       "    .dataframe tbody tr th {\n",
       "        vertical-align: top;\n",
       "    }\n",
       "\n",
       "    .dataframe thead th {\n",
       "        text-align: right;\n",
       "    }\n",
       "</style>\n",
       "<table border=\"1\" class=\"dataframe\">\n",
       "  <thead>\n",
       "    <tr style=\"text-align: right;\">\n",
       "      <th></th>\n",
       "      <th>car_name</th>\n",
       "      <th>brand</th>\n",
       "      <th>model</th>\n",
       "      <th>vehicle_age</th>\n",
       "      <th>km_driven</th>\n",
       "      <th>seller_type</th>\n",
       "      <th>fuel_type</th>\n",
       "      <th>transmission_type</th>\n",
       "      <th>mileage</th>\n",
       "      <th>engine</th>\n",
       "      <th>max_power</th>\n",
       "      <th>seats</th>\n",
       "      <th>selling_price</th>\n",
       "    </tr>\n",
       "  </thead>\n",
       "  <tbody>\n",
       "    <tr>\n",
       "      <th>0</th>\n",
       "      <td>Maruti Alto</td>\n",
       "      <td>Maruti</td>\n",
       "      <td>Alto</td>\n",
       "      <td>9</td>\n",
       "      <td>120000</td>\n",
       "      <td>Individual</td>\n",
       "      <td>Petrol</td>\n",
       "      <td>Manual</td>\n",
       "      <td>19.70</td>\n",
       "      <td>796</td>\n",
       "      <td>46.30</td>\n",
       "      <td>5</td>\n",
       "      <td>120000</td>\n",
       "    </tr>\n",
       "    <tr>\n",
       "      <th>1</th>\n",
       "      <td>Hyundai Grand</td>\n",
       "      <td>Hyundai</td>\n",
       "      <td>Grand</td>\n",
       "      <td>5</td>\n",
       "      <td>20000</td>\n",
       "      <td>Individual</td>\n",
       "      <td>Petrol</td>\n",
       "      <td>Manual</td>\n",
       "      <td>18.90</td>\n",
       "      <td>1197</td>\n",
       "      <td>82.00</td>\n",
       "      <td>5</td>\n",
       "      <td>550000</td>\n",
       "    </tr>\n",
       "    <tr>\n",
       "      <th>2</th>\n",
       "      <td>Hyundai i20</td>\n",
       "      <td>Hyundai</td>\n",
       "      <td>i20</td>\n",
       "      <td>11</td>\n",
       "      <td>60000</td>\n",
       "      <td>Individual</td>\n",
       "      <td>Petrol</td>\n",
       "      <td>Manual</td>\n",
       "      <td>17.00</td>\n",
       "      <td>1197</td>\n",
       "      <td>80.00</td>\n",
       "      <td>5</td>\n",
       "      <td>215000</td>\n",
       "    </tr>\n",
       "    <tr>\n",
       "      <th>3</th>\n",
       "      <td>Maruti Alto</td>\n",
       "      <td>Maruti</td>\n",
       "      <td>Alto</td>\n",
       "      <td>9</td>\n",
       "      <td>37000</td>\n",
       "      <td>Individual</td>\n",
       "      <td>Petrol</td>\n",
       "      <td>Manual</td>\n",
       "      <td>20.92</td>\n",
       "      <td>998</td>\n",
       "      <td>67.10</td>\n",
       "      <td>5</td>\n",
       "      <td>226000</td>\n",
       "    </tr>\n",
       "    <tr>\n",
       "      <th>4</th>\n",
       "      <td>Ford Ecosport</td>\n",
       "      <td>Ford</td>\n",
       "      <td>Ecosport</td>\n",
       "      <td>6</td>\n",
       "      <td>30000</td>\n",
       "      <td>Dealer</td>\n",
       "      <td>Diesel</td>\n",
       "      <td>Manual</td>\n",
       "      <td>22.77</td>\n",
       "      <td>1498</td>\n",
       "      <td>98.59</td>\n",
       "      <td>5</td>\n",
       "      <td>570000</td>\n",
       "    </tr>\n",
       "  </tbody>\n",
       "</table>\n",
       "</div>"
      ],
      "text/plain": [
       "        car_name    brand     model  vehicle_age  km_driven seller_type  \\\n",
       "0    Maruti Alto   Maruti      Alto            9     120000  Individual   \n",
       "1  Hyundai Grand  Hyundai     Grand            5      20000  Individual   \n",
       "2    Hyundai i20  Hyundai       i20           11      60000  Individual   \n",
       "3    Maruti Alto   Maruti      Alto            9      37000  Individual   \n",
       "4  Ford Ecosport     Ford  Ecosport            6      30000      Dealer   \n",
       "\n",
       "  fuel_type transmission_type  mileage  engine  max_power  seats  \\\n",
       "0    Petrol            Manual    19.70     796      46.30      5   \n",
       "1    Petrol            Manual    18.90    1197      82.00      5   \n",
       "2    Petrol            Manual    17.00    1197      80.00      5   \n",
       "3    Petrol            Manual    20.92     998      67.10      5   \n",
       "4    Diesel            Manual    22.77    1498      98.59      5   \n",
       "\n",
       "   selling_price  \n",
       "0         120000  \n",
       "1         550000  \n",
       "2         215000  \n",
       "3         226000  \n",
       "4         570000  "
      ]
     },
     "execution_count": 38,
     "metadata": {},
     "output_type": "execute_result"
    }
   ],
   "source": [
    "df_cleaned.head()"
   ]
  },
  {
   "cell_type": "code",
   "execution_count": 46,
   "id": "b9081742",
   "metadata": {},
   "outputs": [
    {
     "name": "stdout",
     "output_type": "stream",
     "text": [
      "Categories in 'Car name' variable:      ['Maruti Alto' 'Hyundai Grand' 'Hyundai i20' 'Ford Ecosport'\n",
      " 'Maruti Wagon R' 'Hyundai i10' 'Hyundai Venue' 'Maruti Swift'\n",
      " 'Hyundai Verna' 'Renault Duster' 'Mini Cooper' 'Maruti Ciaz'\n",
      " 'Mercedes-Benz C-Class' 'Toyota Innova' 'Maruti Baleno'\n",
      " 'Maruti Swift Dzire' 'Volkswagen Vento' 'Hyundai Creta' 'Honda City'\n",
      " 'Mahindra Bolero' 'Toyota Fortuner' 'Renault KWID' 'Honda Amaze'\n",
      " 'Hyundai Santro' 'Mahindra XUV500' 'Mahindra KUV100' 'Maruti Ignis'\n",
      " 'Datsun RediGO' 'Mahindra Scorpio' 'Mahindra Marazzo' 'Ford Aspire'\n",
      " 'Ford Figo' 'Maruti Vitara' 'Tata Tiago' 'Volkswagen Polo' 'Kia Seltos'\n",
      " 'Maruti Celerio' 'Datsun GO' 'BMW 5' 'Honda CR-V' 'Ford Endeavour'\n",
      " 'Mahindra KUV' 'Honda Jazz' 'BMW 3' 'Audi A4' 'Tata Tigor'\n",
      " 'Maruti Ertiga' 'Tata Safari' 'Mahindra Thar' 'Tata Hexa'\n",
      " 'Land Rover Rover' 'Maruti Eeco' 'Audi A6' 'Mercedes-Benz E-Class'\n",
      " 'Audi Q7' 'BMW Z4' 'BMW 6' 'Jaguar XF' 'BMW X5' 'MG Hector' 'Honda Civic'\n",
      " 'Isuzu D-Max' 'Porsche Cayenne' 'BMW X1' 'Skoda Rapid' 'Ford Freestyle'\n",
      " 'Skoda Superb' 'Tata Nexon' 'Mahindra XUV300' 'Maruti Dzire VXI'\n",
      " 'Volvo S90' 'Honda WR-V' 'Maruti XL6' 'Renault Triber' 'Lexus ES'\n",
      " 'Jeep Wrangler' 'Toyota Camry' 'Hyundai Elantra' 'Toyota Yaris'\n",
      " 'Mercedes-Benz GL-Class' 'BMW 7' 'Maruti S-Presso' 'Maruti Dzire LXI'\n",
      " 'Hyundai Aura' 'Volvo XC' 'Maserati Ghibli' 'Bentley Continental'\n",
      " 'Honda CR' 'Nissan Kicks' 'Mercedes-Benz S-Class' 'Hyundai Tucson'\n",
      " 'Tata Harrier' 'BMW X3' 'Skoda Octavia' 'Jeep Compass'\n",
      " 'Mercedes-Benz CLS' 'Datsun redi-GO' 'Toyota Glanza' 'Porsche Macan'\n",
      " 'BMW X4' 'Maruti Dzire ZXI' 'Volvo XC90' 'Jaguar F-PACE' 'Audi A8'\n",
      " 'ISUZU MUX' 'Ferrari GTC4Lusso' 'Mercedes-Benz GLS' 'Nissan X-Trail'\n",
      " 'Jaguar XE' 'Volvo XC60' 'Porsche Panamera' 'Mahindra Alturas'\n",
      " 'Tata Altroz' 'Lexus NX' 'Kia Carnival' 'Mercedes-AMG C' 'Lexus RX'\n",
      " 'Rolls-Royce Ghost' 'Maserati Quattroporte' 'Isuzu MUX' 'Force Gurkha']\n",
      "Categories in 'Brand' variable:   ['Maruti' 'Hyundai' 'Ford' 'Renault' 'Mini' 'Mercedes-Benz' 'Toyota'\n",
      " 'Volkswagen' 'Honda' 'Mahindra' 'Datsun' 'Tata' 'Kia' 'BMW' 'Audi'\n",
      " 'Land Rover' 'Jaguar' 'MG' 'Isuzu' 'Porsche' 'Skoda' 'Volvo' 'Lexus'\n",
      " 'Jeep' 'Maserati' 'Bentley' 'Nissan' 'ISUZU' 'Ferrari' 'Mercedes-AMG'\n",
      " 'Rolls-Royce' 'Force']\n",
      "Categories in'Model: ['Alto' 'Grand' 'i20' 'Ecosport' 'Wagon R' 'i10' 'Venue' 'Swift' 'Verna'\n",
      " 'Duster' 'Cooper' 'Ciaz' 'C-Class' 'Innova' 'Baleno' 'Swift Dzire'\n",
      " 'Vento' 'Creta' 'City' 'Bolero' 'Fortuner' 'KWID' 'Amaze' 'Santro'\n",
      " 'XUV500' 'KUV100' 'Ignis' 'RediGO' 'Scorpio' 'Marazzo' 'Aspire' 'Figo'\n",
      " 'Vitara' 'Tiago' 'Polo' 'Seltos' 'Celerio' 'GO' '5' 'CR-V' 'Endeavour'\n",
      " 'KUV' 'Jazz' '3' 'A4' 'Tigor' 'Ertiga' 'Safari' 'Thar' 'Hexa' 'Rover'\n",
      " 'Eeco' 'A6' 'E-Class' 'Q7' 'Z4' '6' 'XF' 'X5' 'Hector' 'Civic' 'D-Max'\n",
      " 'Cayenne' 'X1' 'Rapid' 'Freestyle' 'Superb' 'Nexon' 'XUV300' 'Dzire VXI'\n",
      " 'S90' 'WR-V' 'XL6' 'Triber' 'ES' 'Wrangler' 'Camry' 'Elantra' 'Yaris'\n",
      " 'GL-Class' '7' 'S-Presso' 'Dzire LXI' 'Aura' 'XC' 'Ghibli' 'Continental'\n",
      " 'CR' 'Kicks' 'S-Class' 'Tucson' 'Harrier' 'X3' 'Octavia' 'Compass' 'CLS'\n",
      " 'redi-GO' 'Glanza' 'Macan' 'X4' 'Dzire ZXI' 'XC90' 'F-PACE' 'A8' 'MUX'\n",
      " 'GTC4Lusso' 'GLS' 'X-Trail' 'XE' 'XC60' 'Panamera' 'Alturas' 'Altroz'\n",
      " 'NX' 'Carnival' 'C' 'RX' 'Ghost' 'Quattroporte' 'Gurkha']\n",
      "Categories in 'Vehicle age' variable:      [ 9  5 11  6  8  3  2  4  7 10 14 12  1 15 13 16 17 18 29 19  0 21 22 25]\n",
      "Categories in 'KM driven' variable:      [ 120000   20000   60000 ...    9229   10723 3800000]\n",
      "Categories in 'Seller type' variable:      ['Individual' 'Dealer' 'Trustmark Dealer']\n",
      "Categories in 'Fuel type' variable:      ['Petrol' 'Diesel' 'CNG' 'LPG' 'Electric']\n",
      "Categories in 'Transmission type' variable:      ['Manual' 'Automatic']\n",
      "Categories in 'Mileage' variable:      [19.7  18.9  17.   20.92 22.77 20.36 20.51 18.15 16.6  22.32 19.64 14.41\n",
      " 28.09 25.2  19.27 28.4  12.99 21.4  20.85 16.09 19.67 17.4  13.6  26.59\n",
      " 17.7  17.19 13.   23.01 18.6  17.92 15.1  23.4  22.54 18.   21.   15.4\n",
      " 20.89 26.6  22.5  17.8  20.54 17.3  25.   24.   18.16 21.21 14.   16.8\n",
      " 25.17 24.3  18.5  23.84 18.78 11.74 25.1  21.01 22.74 21.9  15.6  19.1\n",
      " 22.07 22.   23.1  23.   19.08 18.27 23.9  16.1  19.81 19.44 18.59 20.62\n",
      " 17.01 17.5  12.05 25.83 21.79 13.7  16.47 20.7  10.91 25.8  25.32 19.87\n",
      " 18.7  14.4  22.69 20.73 16.55 20.   21.5  24.7  23.95 21.63 17.43 25.47\n",
      " 33.54 15.96 21.19 26.   12.55 16.9  22.3  12.9  13.5  17.84 27.28 24.04\n",
      " 22.7  16.   17.6  21.7  20.45 17.14 19.6  20.4  12.63 17.1  15.37 11.4\n",
      " 13.68 17.68 12.3  12.19 17.33 20.77 12.07 20.3  27.39 16.36 15.8  11.29\n",
      " 20.52 31.79  9.17 20.8  14.28 19.3  26.21 18.1  22.9  14.94 13.38 17.41\n",
      " 11.5  17.03 18.2  13.9  12.4  19.34 15.81 14.21 15.15 19.01 18.12 30.46\n",
      " 17.05 21.94 24.52 15.   19.   13.14 14.84 26.2  20.63 10.26 14.7  33.44\n",
      " 17.2  23.26 11.36 17.99 21.13 20.68 15.26 11.57 19.12 22.05 11.8  13.93\n",
      " 16.93 13.2  18.25 26.32 19.83 22.37  9.5  19.16 16.7  27.3  19.5  20.14\n",
      " 19.62 22.27 32.52 11.3  15.74 16.2  24.4  18.69 15.04 17.66 12.   15.29\n",
      " 14.3  10.1  16.02 15.85 14.49 16.5  22.48 22.1  15.2  10.   14.62 23.7\n",
      " 12.7  10.75 21.38 20.28 11.33 20.5  17.11 22.15 11.1   8.45 20.41 10.5\n",
      " 21.14  9.52 24.2  18.48 18.88 20.34 12.8  11.79 25.5  11.88 12.5  19.72\n",
      " 14.23 14.1  14.12 11.25 13.33 13.4  16.38 13.96 19.56 11.   15.9  27.62\n",
      " 19.95 13.1  20.46 12.39 27.4  18.23 22.8  14.59 18.19 14.8  23.8  20.65\n",
      " 19.4  20.64 26.83 26.1  14.67 19.59 12.81 26.8  10.8  17.21 18.56 17.9\n",
      " 16.95 21.66 26.08 12.98 18.24 18.53 12.1   7.81 26.55 18.06 13.45 11.7\n",
      " 30.48 21.3  14.04 20.04 30.47 12.97 16.4  16.07 14.24 21.76 21.49 21.27\n",
      " 14.71 11.49 21.56 19.71 16.73 16.11 14.5  19.02 14.75 25.6  24.07 19.33\n",
      " 10.13 16.05 10.93 24.12 24.8  13.24 14.69 12.35 20.2  21.74 15.63 21.1\n",
      " 14.74 15.34 23.5  24.29 15.5  16.77 14.19 15.11 18.76 19.2  17.09 16.46\n",
      " 13.8  20.88 16.3  15.97  4.    9.26 12.65 15.3  20.35 14.42 20.71 15.64\n",
      " 19.39 14.6  10.9   9.   21.72 32.26  7.5  23.87 19.23 26.82 12.51 15.68\n",
      " 15.06 14.57  9.3  12.6  11.2  12.83 10.2  19.05 12.62 10.37 18.32 19.91\n",
      " 18.57 15.41  8.9  14.11  8.5  11.9  16.78 18.3   7.94 10.6  18.8  11.78\n",
      "  6.   17.54 11.31 17.85 18.4  24.1  14.38 10.4  15.01 17.24 13.29 19.19\n",
      " 20.6   8.77 17.61 18.42 12.95 14.99 15.92  8.6  17.69 16.12 18.84 19.65\n",
      " 17.74 17.18 13.53]\n",
      "Categories in 'Engine' variable:      [ 796 1197  998 1498 1582 1461 1998 1248 2143 2494 1598 1497 2523 2982\n",
      "  999 1199 1086 2179 1396 1198 1590 1997 1493 1120 1196 1186 1061  799\n",
      " 1796 2993 1298 3198 1995 1373 1591 1968 1399 1047 1353 2755 1395 2498\n",
      " 1999 2953 2393 2967 2998 2995 1956 1462 1799 2499 1451 1194 1798 2694\n",
      " 1496 1969 2487 3604 1499 2987 1599 2354 1950 2148 4134 2400 1984 2979\n",
      " 2609 2092 5998 1330 2956 3598 2362  793 1368 3597 1991 5461 1343 2497\n",
      " 4367 1797 3498 2698 1896 2999 3855 4806 1985 2771 2157 3628 2198 2996\n",
      " 2199 4395 3456 4663 2773 6592 2495 1781 2997 1597 2596 4163]\n",
      "Categories in 'Max power' variable:      [ 46.3   82.    80.    67.1   98.59  78.9   67.04 118.35  85.   126.32\n",
      " 108.45 189.08  88.5   74.   170.   100.6   83.1   83.14 103.2  126.2\n",
      " 117.3   63.    78.    81.86 168.5   67.    88.76  62.1  140.    88.73\n",
      "  81.83  74.96  94.    81.8   58.16  68.   126.3  120.   103.6  121.\n",
      " 113.42 152.87  70.    86.8   73.97  86.7   64.   116.3   53.3   82.9\n",
      "  75.    84.   186.    98.6  113.4   47.3   90.    85.8   73.9   82.85\n",
      "  98.96  68.05 261.49  74.02  99.    67.05 153.86 197.    77.    83.8\n",
      "  88.7   61.7  190.    91.1  121.3  118.   147.51  69.   138.   105.5\n",
      " 138.1  100.    53.26 174.5  115.   105.    89.84 117.6  177.    88.51\n",
      "  73.   174.33 185.   237.36  88.8  241.4   83.11 335.    67.06  58.33\n",
      " 335.25 254.7  123.24 187.7  204.   265.   167.68 171.   121.36 103.26\n",
      " 147.8  130.2  134.   103.   141.   203.   110.   240.   184.   168.7\n",
      " 103.52  94.68 157.8   58.2  108.5  163.7  120.69  40.3  147.5  171.5\n",
      " 108.6  103.5   53.64 241.6   71.   187.74  93.87 214.56 280.   214.5\n",
      " 126.24 254.8  188.   167.62 355.37 187.4  191.7  152.    93.7  110.4\n",
      " 258.   138.03  88.2   83.83 140.8   57.5  149.92  88.   224.    68.1\n",
      " 103.25 335.2  200.   241.3  321.   271.   127.   313.   102.    68.07\n",
      " 157.7   72.   119.35 121.31 626.   130.   197.2  420.   147.94 153.87\n",
      " 254.79 148.   177.46 300.   164.7  183.   121.4   47.    98.63 169.\n",
      "  94.93  80.9  178.   138.08 112.   160.   139.46 160.77 108.49  38.4\n",
      "  99.23  80.46 148.31 132.   201.1  260.   189.   168.    91.19 178.4\n",
      " 108.62 141.1  177.5  362.9  282.    58.    83.81 150.    70.02 181.\n",
      " 252.   158.2  192.   335.3  201.15 218.    72.42 157.75 245.    97.9\n",
      " 100.57 116.4  364.9  167.6  123.37 102.57 181.03 272.   235.   181.04\n",
      " 248.   179.5   66.   104.55 173.   104.5  178.3  154.   246.7  105.94\n",
      " 244.1  215.    53.   175.   198.5  270.9  249.   116.6  601.   301.8\n",
      " 138.13 255.   261.4  147.6  155.   120.7  108.    61.6  122.4  100.5\n",
      " 394.3  118.3  210.   237.4   98.   167.67 163.   130.3  241.38 306.\n",
      " 193.1   97.89 178.49 161.6   98.97  84.48 112.44 308.    84.82 158.\n",
      "  76.43 301.72 194.3  147.4  333.   500.   194.   182.46 362.07 440.\n",
      "  58.3  450.   362.    91.2  258.81 459.   151.89 600.    59.18 246.74\n",
      " 197.13 158.8  261.5  194.4  201.   103.56  65.39 563.   296.   248.08\n",
      " 163.2  143.   156.   270.88 385.   402.   231.1  174.57 152.88 552.\n",
      " 106.    83.    80.8  130.1  119.3   62.   259.   221.3   75.1  349.5\n",
      " 170.63 177.01]\n",
      "Categories in 'Seats' variable:      [5 8 7 6 4 2 9 0]\n"
     ]
    }
   ],
   "source": [
    "print(\"Categories in 'Car name' variable:     \",end=\" \" )\n",
    "print(df_cleaned['car_name'].unique())\n",
    "\n",
    "print(\"Categories in 'Brand' variable:  \",end=\" \")\n",
    "print(df_cleaned['brand'].unique())\n",
    "\n",
    "print(\"Categories in'Model:\",end=\" \" )\n",
    "print(df_cleaned['model'].unique())\n",
    "\n",
    "print(\"Categories in 'Vehicle age' variable:     \",end=\" \" )\n",
    "print(df_cleaned['vehicle_age'].unique())\n",
    "\n",
    "print(\"Categories in 'KM driven' variable:     \",end=\" \" )\n",
    "print(df_cleaned['km_driven'].unique())\n",
    "\n",
    "print(\"Categories in 'Seller type' variable:     \",end=\" \" )\n",
    "print(df_cleaned['seller_type'].unique())\n",
    "\n",
    "print(\"Categories in 'Fuel type' variable:     \",end=\" \" )\n",
    "print(df_cleaned['fuel_type'].unique())\n",
    "\n",
    "print(\"Categories in 'Transmission type' variable:     \",end=\" \" )\n",
    "print(df_cleaned['transmission_type'].unique())\n",
    "\n",
    "print(\"Categories in 'Mileage' variable:     \",end=\" \" )\n",
    "print(df_cleaned['mileage'].unique())\n",
    "\n",
    "print(\"Categories in 'Engine' variable:     \",end=\" \" )\n",
    "print(df_cleaned['engine'].unique())\n",
    "\n",
    "print(\"Categories in 'Max power' variable:     \",end=\" \" )\n",
    "print(df_cleaned['max_power'].unique())\n",
    "\n",
    "print(\"Categories in 'Seats' variable:     \",end=\" \" )\n",
    "print(df_cleaned['seats'].unique())\n"
   ]
  },
  {
   "cell_type": "code",
   "execution_count": 47,
   "id": "2dd97e26",
   "metadata": {},
   "outputs": [
    {
     "name": "stdout",
     "output_type": "stream",
     "text": [
      "We have 7 numerical features : ['vehicle_age', 'km_driven', 'mileage', 'engine', 'max_power', 'seats', 'selling_price']\n",
      "\n",
      "We have 6 categorical features : ['car_name', 'brand', 'model', 'seller_type', 'fuel_type', 'transmission_type']\n"
     ]
    }
   ],
   "source": [
    "# define numerical & categorical columns\n",
    "numeric_features = [feature for feature in df_cleaned.columns if df_cleaned[feature].dtype != 'O']\n",
    "categorical_features = [feature for feature in df_cleaned.columns if df_cleaned[feature].dtype == 'O']\n",
    "\n",
    "# print columns\n",
    "print('We have {} numerical features : {}'.format(len(numeric_features), numeric_features))\n",
    "print('\\nWe have {} categorical features : {}'.format(len(categorical_features), categorical_features))"
   ]
  },
  {
   "cell_type": "code",
   "execution_count": 48,
   "id": "ae2822d1",
   "metadata": {},
   "outputs": [
    {
     "data": {
      "text/html": [
       "<div>\n",
       "<style scoped>\n",
       "    .dataframe tbody tr th:only-of-type {\n",
       "        vertical-align: middle;\n",
       "    }\n",
       "\n",
       "    .dataframe tbody tr th {\n",
       "        vertical-align: top;\n",
       "    }\n",
       "\n",
       "    .dataframe thead th {\n",
       "        text-align: right;\n",
       "    }\n",
       "</style>\n",
       "<table border=\"1\" class=\"dataframe\">\n",
       "  <thead>\n",
       "    <tr style=\"text-align: right;\">\n",
       "      <th></th>\n",
       "      <th>car_name</th>\n",
       "      <th>brand</th>\n",
       "      <th>model</th>\n",
       "      <th>vehicle_age</th>\n",
       "      <th>km_driven</th>\n",
       "      <th>seller_type</th>\n",
       "      <th>fuel_type</th>\n",
       "      <th>transmission_type</th>\n",
       "      <th>mileage</th>\n",
       "      <th>engine</th>\n",
       "      <th>max_power</th>\n",
       "      <th>seats</th>\n",
       "      <th>selling_price</th>\n",
       "    </tr>\n",
       "  </thead>\n",
       "  <tbody>\n",
       "    <tr>\n",
       "      <th>0</th>\n",
       "      <td>Maruti Alto</td>\n",
       "      <td>Maruti</td>\n",
       "      <td>Alto</td>\n",
       "      <td>9</td>\n",
       "      <td>120000</td>\n",
       "      <td>Individual</td>\n",
       "      <td>Petrol</td>\n",
       "      <td>Manual</td>\n",
       "      <td>19.7</td>\n",
       "      <td>796</td>\n",
       "      <td>46.3</td>\n",
       "      <td>5</td>\n",
       "      <td>120000</td>\n",
       "    </tr>\n",
       "    <tr>\n",
       "      <th>1</th>\n",
       "      <td>Hyundai Grand</td>\n",
       "      <td>Hyundai</td>\n",
       "      <td>Grand</td>\n",
       "      <td>5</td>\n",
       "      <td>20000</td>\n",
       "      <td>Individual</td>\n",
       "      <td>Petrol</td>\n",
       "      <td>Manual</td>\n",
       "      <td>18.9</td>\n",
       "      <td>1197</td>\n",
       "      <td>82.0</td>\n",
       "      <td>5</td>\n",
       "      <td>550000</td>\n",
       "    </tr>\n",
       "  </tbody>\n",
       "</table>\n",
       "</div>"
      ],
      "text/plain": [
       "        car_name    brand  model  vehicle_age  km_driven seller_type  \\\n",
       "0    Maruti Alto   Maruti   Alto            9     120000  Individual   \n",
       "1  Hyundai Grand  Hyundai  Grand            5      20000  Individual   \n",
       "\n",
       "  fuel_type transmission_type  mileage  engine  max_power  seats  \\\n",
       "0    Petrol            Manual     19.7     796       46.3      5   \n",
       "1    Petrol            Manual     18.9    1197       82.0      5   \n",
       "\n",
       "   selling_price  \n",
       "0         120000  \n",
       "1         550000  "
      ]
     },
     "execution_count": 48,
     "metadata": {},
     "output_type": "execute_result"
    }
   ],
   "source": [
    "df_cleaned.head(2)"
   ]
  },
  {
   "cell_type": "markdown",
   "id": "e598bc93",
   "metadata": {},
   "source": [
    "### 4. Exploring Data ( Visualization )\n",
    "#### 4.1 Visualize average score distribution to make some conclusion. \n",
    "- Histogram\n",
    "- Kernel Distribution Function (KDE)"
   ]
  },
  {
   "cell_type": "markdown",
   "id": "f4726058",
   "metadata": {},
   "source": [
    "#### 4.1.1 Histogram & KDE"
   ]
  },
  {
   "cell_type": "code",
   "execution_count": 51,
   "id": "c2510266",
   "metadata": {},
   "outputs": [
    {
     "data": {
      "image/png": "[encoded data removed]",
      "text/plain": [
       "<Figure size 1500x700 with 2 Axes>"
      ]
     },
     "metadata": {},
     "output_type": "display_data"
    }
   ],
   "source": [
    "fig, axs = plt.subplots(1, 2, figsize=(15, 7))\n",
    "plt.subplot(121)\n",
    "sns.histplot(data=df_cleaned,x='vehicle_age',bins=30,kde=True,color='g')\n",
    "plt.subplot(122)\n",
    "sns.histplot(data=df_cleaned,x='vehicle_age',kde=True,hue='seller_type')\n",
    "plt.show()"
   ]
  },
  {
   "cell_type": "code",
   "execution_count": 53,
   "id": "e7967c7a",
   "metadata": {},
   "outputs": [
    {
     "data": {
      "image/png": "[encoded data removed]",
      "text/plain": [
       "<Figure size 1500x700 with 2 Axes>"
      ]
     },
     "metadata": {},
     "output_type": "display_data"
    }
   ],
   "source": [
    "fig, axs = plt.subplots(1, 2, figsize=(15, 7))\n",
    "plt.subplot(121)\n",
    "sns.histplot(data=df_cleaned,x='fuel_type',bins=30,kde=True,color='g')\n",
    "plt.subplot(122)\n",
    "sns.histplot(data=df_cleaned,x='fuel_type',kde=True,hue='seller_type')\n",
    "plt.show()"
   ]
  },
  {
   "cell_type": "markdown",
   "id": "3d200b76",
   "metadata": {},
   "source": [
    "#####  Insights\n",
    "- Petrol and Desiel Vechiles are tend to equal and CNG vechiles are less."
   ]
  }
 ],
 "metadata": {
  "kernelspec": {
   "display_name": "Python 3 (ipykernel)",
   "language": "python",
   "name": "python3"
  },
  "language_info": {
   "codemirror_mode": {
    "name": "ipython",
    "version": 3
   },
   "file_extension": ".py",
   "mimetype": "text/x-python",
   "name": "python",
   "nbconvert_exporter": "python",
   "pygments_lexer": "ipython3",
   "version": "3.9.0"
  },
  "vscode": {
   "interpreter": {
    "hash": "7f9dc718a552478e14f37d36e0ca2ac7de1ac15c04a40a415ea3abc3fe8a0a39"
   }
  }
 },
 "nbformat": 4,
 "nbformat_minor": 5
}
